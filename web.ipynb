{
 "cells": [
  {
   "cell_type": "code",
   "execution_count": 1,
   "id": "67bee374-b202-4779-a3e8-00a5a4e4a894",
   "metadata": {},
   "outputs": [
    {
     "name": "stderr",
     "output_type": "stream",
     "text": [
      "\n",
      "\n",
      "====== WebDriver manager ======\n",
      "Current google-chrome version is 100.0.4896\n",
      "Get LATEST chromedriver version for 100.0.4896 google-chrome\n",
      "Trying to download new driver from https://chromedriver.storage.googleapis.com/100.0.4896.60/chromedriver_win32.zip\n",
      "Driver has been saved in cache [C:\\Users\\hp\\.wdm\\drivers\\chromedriver\\win32\\100.0.4896.60]\n",
      "C:\\Users\\hp\\AppData\\Local\\Temp/ipykernel_6228/2316813349.py:4: DeprecationWarning: executable_path has been deprecated, please pass in a Service object\n",
      "  driver = webdriver.Chrome(ChromeDriverManager().install())\n"
     ]
    }
   ],
   "source": [
    "from selenium import webdriver\n",
    "from selenium.webdriver.common.keys import Keys\n",
    "from webdriver_manager.chrome import ChromeDriverManager\n",
    "driver = webdriver.Chrome(ChromeDriverManager().install())"
   ]
  },
  {
   "cell_type": "code",
   "execution_count": 2,
   "id": "8ebefc1d-e452-48bf-983d-d7c4662b9036",
   "metadata": {},
   "outputs": [],
   "source": [
    "driver.get(\"https://www.ghanaweb.com/\")"
   ]
  },
  {
   "cell_type": "code",
   "execution_count": 3,
   "id": "4c1ab3c6-751d-4efc-a8e5-aaab69d58c61",
   "metadata": {},
   "outputs": [
    {
     "name": "stderr",
     "output_type": "stream",
     "text": [
      "C:\\Users\\hp\\AppData\\Local\\Temp/ipykernel_6228/3229776554.py:1: DeprecationWarning: find_element_by_xpath is deprecated. Please use find_element(by=By.XPATH, value=xpath) instead\n",
      "  i = driver.find_element_by_xpath(\"(//body)[1]\")\n"
     ]
    }
   ],
   "source": [
    "i = driver.find_element_by_xpath(\"(//body)[1]\")\n",
    "#(//a[@target='_blank'])[1]\n",
    "#(//body)[1]"
   ]
  },
  {
   "cell_type": "code",
   "execution_count": 4,
   "id": "15aee6ff-a0fc-4a4f-abcc-be028329da4d",
   "metadata": {},
   "outputs": [],
   "source": [
    "i = i.text"
   ]
  },
  {
   "cell_type": "code",
   "execution_count": 5,
   "id": "039e745a-e5ce-4934-b763-71f6e2ba2dbf",
   "metadata": {},
   "outputs": [
    {
     "data": {
      "text/plain": [
       "\"Youtube Icon Facebook Icon Twitter Icon\\nSign up\\nLogin\\nYou are here: Home\\nNews\\nSports\\nBusiness\\nEntertainment\\nAfrica\\nGhanaWeb TV\\nWall\\nCountry\\nTwo Ghanaians in the grip of FBI for their roles in a US$6 million romance, inheritance scam\\nnews\\nBloggers' Forum: Stonebwoy slammed over NFTs endorsement\\nentertainment\\nCape North MP pledges support to Kakumdo CHPS compound\\nopinions\\nSam Jonah describes low level of Ghanaian ownership in local economy as disappointing\\nbusiness\\nSulley Muntari is not human, he is a spirit – Henry Asante\\nsports\\nVideos\\nNext on The Lowdown: Common misconceptions about Islam\\nnews\\n'Maame Water' spirit ruined our careers - Ex-starlet Captain\\nsports\\nAkuapem Poloo makes a bold confession\\nentertainment\\nBizTech: These electric bicycles are making deliveries at cheaper rates, no fuel needed\\nbusiness\\nWall\\nOPINIONS\\nThe Undisclosed $65m In E-levy\\n21 April, 2022\\n7\\nOPINIONS\\nHas Bawumia Narrated Npp's Fai\\n21 April, 2022\\n1\\nOPINIONS\\nWe Appeal To Hon. Amoako-atta\\n21 April, 2022\\n1\\nOPINIONS\\nThe Tobias And Sanballats Of T\\n20 April, 2022\\n8\\nOPINIONS\\nCape North Mp Pledges Support\\n22 April, 2022\\nSAY IT OUT LOUD\\nKamala, Kamala, Kamala, Kamala\\n22 April, 2022\\n21\\nMEMBER\\nJanet\\nOPINIONS\\nHarnessing Africa’s Creativity\\n22 April, 2022\\nResources\\nA\\nAbroad, Ghanaians\\nAFCON\\nAfrican News\\nArticles, feature\\nAthletes\\nAthletics\\nB\\nBBC Hausa News\\nBBC Pidgin News\\nBBC Podcasts\\nBizTech – TV\\nBloggers' Forum – TV\\nBusiness & Economy\\nBusiness Directory\\nC\\nCities\\nConsumerpanel\\nCoronavirus\\nCountry Information\\nCrime News\\nD\\nDating\\nDictionary, Ghanaian\\nDiscussions\\nDriving Test\\nE\\nEditorial News\\nEducation\\nElections 2020\\nEntertainers\\nEntertainment\\nEyes On The Ground – TV\\nF\\nFAQ\\nFeatures Archive\\nFriday Debate – TV\\nG\\nGhanaWeb TV\\nH\\nHealth News\\nHistory\\nHospitals\\nL\\nLanguages\\nLifestyle\\nThe Lowdown – TV\\nM\\nMaps of Ghana\\nMember Section (The Wall)\\nMemorial President Mills\\nMobile website\\nMusic\\nMusicians\\nN\\nEntertainment News 1995 – now\\nGeneral News 1995 – now\\nSports News 1995 – now\\nO\\nOpinions\\nP\\nPeople & Places – TV\\nPeople, famous\\nPhoto Gallery\\nPolitical News\\nPoliticians\\nPolls / survey\\nPresident\\nR\\nRadio (100+ stations)\\nRegional News\\nReligion\\nS\\nSay It Loud – TV\\nSay It Loud (Discussions)\\nSports Check – TV\\nSports Section\\nStock Exchange\\nT\\nTWI News – TV\\nTabloid News\\nTalkertainment – TV\\nTelephone Directory\\nV\\nVideos Music\\nY\\nLast Year in Review\\nYour Photos\\nWhy you should know about Somalia’s first-ever cheesemaker\\nafrica\\nAbout Us\\nAdvertising\\nFAQ\\nSitemap\\nPrivacy Policy\\nCopyright © 1994 - 2022 GhanaWeb. All rights reserved.\""
      ]
     },
     "execution_count": 5,
     "metadata": {},
     "output_type": "execute_result"
    }
   ],
   "source": [
    "i"
   ]
  },
  {
   "cell_type": "code",
   "execution_count": 6,
   "id": "531771dd-5511-40d8-afab-738466e1a466",
   "metadata": {},
   "outputs": [
    {
     "data": {
      "text/plain": [
       "str"
      ]
     },
     "execution_count": 6,
     "metadata": {},
     "output_type": "execute_result"
    }
   ],
   "source": [
    "type(i)"
   ]
  },
  {
   "cell_type": "code",
   "execution_count": 7,
   "id": "3453a703-a9e2-4633-984b-7896fb2a2e75",
   "metadata": {},
   "outputs": [],
   "source": [
    "index = i.find(\"Eyes On The Ground\")"
   ]
  },
  {
   "cell_type": "code",
   "execution_count": 8,
   "id": "e664c2dd-4126-47d7-94e7-a6a1ddcda54b",
   "metadata": {},
   "outputs": [
    {
     "data": {
      "text/plain": [
       "1631"
      ]
     },
     "execution_count": 8,
     "metadata": {},
     "output_type": "execute_result"
    }
   ],
   "source": [
    "index"
   ]
  },
  {
   "cell_type": "code",
   "execution_count": 9,
   "id": "8927b9d4-0e95-41d8-b05e-b78fa157f6f5",
   "metadata": {},
   "outputs": [
    {
     "data": {
      "text/plain": [
       "int"
      ]
     },
     "execution_count": 9,
     "metadata": {},
     "output_type": "execute_result"
    }
   ],
   "source": [
    "type(index)"
   ]
  },
  {
   "cell_type": "code",
   "execution_count": 10,
   "id": "23cb7c7f-b5c6-47f3-9e60-06217540c232",
   "metadata": {},
   "outputs": [
    {
     "name": "stderr",
     "output_type": "stream",
     "text": [
      "C:\\Users\\hp\\AppData\\Local\\Temp/ipykernel_6228/3648953147.py:3: DeprecationWarning: find_elements_by_xpath is deprecated. Please use find_elements(by=By.XPATH, value=xpath) instead\n",
      "  k = driver.find_elements_by_xpath(\"//*[contains(text(), 'goes after entities defying')]\")\n"
     ]
    }
   ],
   "source": [
    "# located element with contains()\n",
    "#k = driver.find_element_by_xpath(“(//p[contains(text(), \"weapons\")])”)\n",
    "k = driver.find_elements_by_xpath(\"//*[contains(text(), 'goes after entities defying')]\")\n",
    "#goes after entities defying"
   ]
  },
  {
   "cell_type": "code",
   "execution_count": 11,
   "id": "c3d8c65a-eadd-40d8-aa40-0bb248c8fc5a",
   "metadata": {},
   "outputs": [
    {
     "data": {
      "text/plain": [
       "[]"
      ]
     },
     "execution_count": 11,
     "metadata": {},
     "output_type": "execute_result"
    }
   ],
   "source": [
    "k\n"
   ]
  },
  {
   "cell_type": "code",
   "execution_count": 12,
   "id": "89499d29-c9e2-48b0-9344-7d4fd1d3b474",
   "metadata": {},
   "outputs": [
    {
     "data": {
      "text/plain": [
       "list"
      ]
     },
     "execution_count": 12,
     "metadata": {},
     "output_type": "execute_result"
    }
   ],
   "source": [
    "type(k)"
   ]
  },
  {
   "cell_type": "code",
   "execution_count": 15,
   "id": "416ed58b-6abd-467b-9ae9-f1bcf701763f",
   "metadata": {},
   "outputs": [],
   "source": [
    "rep = i.replace(\"\\n\", \". \")"
   ]
  },
  {
   "cell_type": "code",
   "execution_count": 16,
   "id": "979206d4-2ec1-496b-b9df-747b4b84cb5c",
   "metadata": {},
   "outputs": [
    {
     "data": {
      "text/plain": [
       "\"Youtube Icon Facebook Icon Twitter Icon. Sign up. Login. You are here: Home. News. Sports. Business. Entertainment. Africa. GhanaWeb TV. Wall. Country. Two Ghanaians in the grip of FBI for their roles in a US$6 million romance, inheritance scam. news. Bloggers' Forum: Stonebwoy slammed over NFTs endorsement. entertainment. Cape North MP pledges support to Kakumdo CHPS compound. opinions. Sam Jonah describes low level of Ghanaian ownership in local economy as disappointing. business. Sulley Muntari is not human, he is a spirit – Henry Asante. sports. Videos. Next on The Lowdown: Common misconceptions about Islam. news. 'Maame Water' spirit ruined our careers - Ex-starlet Captain. sports. Akuapem Poloo makes a bold confession. entertainment. BizTech: These electric bicycles are making deliveries at cheaper rates, no fuel needed. business. Wall. OPINIONS. The Undisclosed $65m In E-levy. 21 April, 2022. 7. OPINIONS. Has Bawumia Narrated Npp's Fai. 21 April, 2022. 1. OPINIONS. We Appeal To Hon. Amoako-atta. 21 April, 2022. 1. OPINIONS. The Tobias And Sanballats Of T. 20 April, 2022. 8. OPINIONS. Cape North Mp Pledges Support. 22 April, 2022. SAY IT OUT LOUD. Kamala, Kamala, Kamala, Kamala. 22 April, 2022. 21. MEMBER. Janet. OPINIONS. Harnessing Africa’s Creativity. 22 April, 2022. Resources. A. Abroad, Ghanaians. AFCON. African News. Articles, feature. Athletes. Athletics. B. BBC Hausa News. BBC Pidgin News. BBC Podcasts. BizTech – TV. Bloggers' Forum – TV. Business & Economy. Business Directory. C. Cities. Consumerpanel. Coronavirus. Country Information. Crime News. D. Dating. Dictionary, Ghanaian. Discussions. Driving Test. E. Editorial News. Education. Elections 2020. Entertainers. Entertainment. Eyes On The Ground – TV. F. FAQ. Features Archive. Friday Debate – TV. G. GhanaWeb TV. H. Health News. History. Hospitals. L. Languages. Lifestyle. The Lowdown – TV. M. Maps of Ghana. Member Section (The Wall). Memorial President Mills. Mobile website. Music. Musicians. N. Entertainment News 1995 – now. General News 1995 – now. Sports News 1995 – now. O. Opinions. P. People & Places – TV. People, famous. Photo Gallery. Political News. Politicians. Polls / survey. President. R. Radio (100+ stations). Regional News. Religion. S. Say It Loud – TV. Say It Loud (Discussions). Sports Check – TV. Sports Section. Stock Exchange. T. TWI News – TV. Tabloid News. Talkertainment – TV. Telephone Directory. V. Videos Music. Y. Last Year in Review. Your Photos. Why you should know about Somalia’s first-ever cheesemaker. africa. About Us. Advertising. FAQ. Sitemap. Privacy Policy. Copyright © 1994 - 2022 GhanaWeb. All rights reserved.\""
      ]
     },
     "execution_count": 16,
     "metadata": {},
     "output_type": "execute_result"
    }
   ],
   "source": [
    "rep"
   ]
  },
  {
   "cell_type": "code",
   "execution_count": 25,
   "id": "2aa02587-167f-4625-9218-b6f428d8c2c7",
   "metadata": {},
   "outputs": [],
   "source": [
    "import re\n",
    "expression = re.compile(r'([A-Z][^\\.!?]*[\\.!?])')\n",
    "new_list = re.findall(expression, rep)\n"
   ]
  },
  {
   "cell_type": "code",
   "execution_count": 26,
   "id": "153dad7a-48d1-4bb2-8f6b-b43f97f2a8c6",
   "metadata": {},
   "outputs": [
    {
     "data": {
      "text/plain": [
       "['Youtube Icon Facebook Icon Twitter Icon.',\n",
       " 'Sign up.',\n",
       " 'Login.',\n",
       " 'You are here: Home.',\n",
       " 'News.',\n",
       " 'Sports.',\n",
       " 'Business.',\n",
       " 'Entertainment.',\n",
       " 'Africa.',\n",
       " 'GhanaWeb TV.',\n",
       " 'Wall.',\n",
       " 'Country.',\n",
       " 'Two Ghanaians in the grip of FBI for their roles in a US$6 million romance, inheritance scam.',\n",
       " \"Bloggers' Forum: Stonebwoy slammed over NFTs endorsement.\",\n",
       " 'Cape North MP pledges support to Kakumdo CHPS compound.',\n",
       " 'Sam Jonah describes low level of Ghanaian ownership in local economy as disappointing.',\n",
       " 'Sulley Muntari is not human, he is a spirit – Henry Asante.',\n",
       " 'Videos.',\n",
       " 'Next on The Lowdown: Common misconceptions about Islam.',\n",
       " \"Maame Water' spirit ruined our careers - Ex-starlet Captain.\",\n",
       " 'Akuapem Poloo makes a bold confession.',\n",
       " 'BizTech: These electric bicycles are making deliveries at cheaper rates, no fuel needed.',\n",
       " 'Wall.',\n",
       " 'OPINIONS.',\n",
       " 'The Undisclosed $65m In E-levy.',\n",
       " 'April, 2022.',\n",
       " 'OPINIONS.',\n",
       " \"Has Bawumia Narrated Npp's Fai.\",\n",
       " 'April, 2022.',\n",
       " 'OPINIONS.',\n",
       " 'We Appeal To Hon.',\n",
       " 'Amoako-atta.',\n",
       " 'April, 2022.',\n",
       " 'OPINIONS.',\n",
       " 'The Tobias And Sanballats Of T.',\n",
       " 'April, 2022.',\n",
       " 'OPINIONS.',\n",
       " 'Cape North Mp Pledges Support.',\n",
       " 'April, 2022.',\n",
       " 'SAY IT OUT LOUD.',\n",
       " 'Kamala, Kamala, Kamala, Kamala.',\n",
       " 'April, 2022.',\n",
       " 'MEMBER.',\n",
       " 'Janet.',\n",
       " 'OPINIONS.',\n",
       " 'Harnessing Africa’s Creativity.',\n",
       " 'April, 2022.',\n",
       " 'Resources.',\n",
       " 'A.',\n",
       " 'Abroad, Ghanaians.',\n",
       " 'AFCON.',\n",
       " 'African News.',\n",
       " 'Articles, feature.',\n",
       " 'Athletes.',\n",
       " 'Athletics.',\n",
       " 'B.',\n",
       " 'BBC Hausa News.',\n",
       " 'BBC Pidgin News.',\n",
       " 'BBC Podcasts.',\n",
       " 'BizTech – TV.',\n",
       " \"Bloggers' Forum – TV.\",\n",
       " 'Business & Economy.',\n",
       " 'Business Directory.',\n",
       " 'C.',\n",
       " 'Cities.',\n",
       " 'Consumerpanel.',\n",
       " 'Coronavirus.',\n",
       " 'Country Information.',\n",
       " 'Crime News.',\n",
       " 'D.',\n",
       " 'Dating.',\n",
       " 'Dictionary, Ghanaian.',\n",
       " 'Discussions.',\n",
       " 'Driving Test.',\n",
       " 'E.',\n",
       " 'Editorial News.',\n",
       " 'Education.',\n",
       " 'Elections 2020.',\n",
       " 'Entertainers.',\n",
       " 'Entertainment.',\n",
       " 'Eyes On The Ground – TV.',\n",
       " 'F.',\n",
       " 'FAQ.',\n",
       " 'Features Archive.',\n",
       " 'Friday Debate – TV.',\n",
       " 'G.',\n",
       " 'GhanaWeb TV.',\n",
       " 'H.',\n",
       " 'Health News.',\n",
       " 'History.',\n",
       " 'Hospitals.',\n",
       " 'L.',\n",
       " 'Languages.',\n",
       " 'Lifestyle.',\n",
       " 'The Lowdown – TV.',\n",
       " 'M.',\n",
       " 'Maps of Ghana.',\n",
       " 'Member Section (The Wall).',\n",
       " 'Memorial President Mills.',\n",
       " 'Mobile website.',\n",
       " 'Music.',\n",
       " 'Musicians.',\n",
       " 'N.',\n",
       " 'Entertainment News 1995 – now.',\n",
       " 'General News 1995 – now.',\n",
       " 'Sports News 1995 – now.',\n",
       " 'O.',\n",
       " 'Opinions.',\n",
       " 'P.',\n",
       " 'People & Places – TV.',\n",
       " 'People, famous.',\n",
       " 'Photo Gallery.',\n",
       " 'Political News.',\n",
       " 'Politicians.',\n",
       " 'Polls / survey.',\n",
       " 'President.',\n",
       " 'R.',\n",
       " 'Radio (100+ stations).',\n",
       " 'Regional News.',\n",
       " 'Religion.',\n",
       " 'S.',\n",
       " 'Say It Loud – TV.',\n",
       " 'Say It Loud (Discussions).',\n",
       " 'Sports Check – TV.',\n",
       " 'Sports Section.',\n",
       " 'Stock Exchange.',\n",
       " 'T.',\n",
       " 'TWI News – TV.',\n",
       " 'Tabloid News.',\n",
       " 'Talkertainment – TV.',\n",
       " 'Telephone Directory.',\n",
       " 'V.',\n",
       " 'Videos Music.',\n",
       " 'Y.',\n",
       " 'Last Year in Review.',\n",
       " 'Your Photos.',\n",
       " 'Why you should know about Somalia’s first-ever cheesemaker.',\n",
       " 'About Us.',\n",
       " 'Advertising.',\n",
       " 'FAQ.',\n",
       " 'Sitemap.',\n",
       " 'Privacy Policy.',\n",
       " 'Copyright © 1994 - 2022 GhanaWeb.',\n",
       " 'All rights reserved.']"
      ]
     },
     "execution_count": 26,
     "metadata": {},
     "output_type": "execute_result"
    }
   ],
   "source": [
    "new_list"
   ]
  },
  {
   "cell_type": "code",
   "execution_count": 27,
   "id": "8f477d53-5ccd-40cd-8936-022098199149",
   "metadata": {},
   "outputs": [
    {
     "data": {
      "text/plain": [
       "list"
      ]
     },
     "execution_count": 27,
     "metadata": {},
     "output_type": "execute_result"
    }
   ],
   "source": [
    "type(new_list)"
   ]
  },
  {
   "cell_type": "code",
   "execution_count": 28,
   "id": "605f5ed8-d50f-455d-8816-778bf2c84248",
   "metadata": {},
   "outputs": [
    {
     "name": "stdout",
     "output_type": "stream",
     "text": [
      "Word found.\n"
     ]
    }
   ],
   "source": [
    "#match = match\n",
    "word = 'Ghana'\n",
    "if word in rep:\n",
    "    print('Word found.')"
   ]
  },
  {
   "cell_type": "code",
   "execution_count": 29,
   "id": "13027ee9-310b-4d46-9657-98df201bedff",
   "metadata": {},
   "outputs": [
    {
     "name": "stdout",
     "output_type": "stream",
     "text": [
      "['GhanaWeb TV.', 'Two Ghanaians in the grip of FBI for their roles in a US$6 million romance, inheritance scam.', 'Sam Jonah describes low level of Ghanaian ownership in local economy as disappointing.', 'Abroad, Ghanaians.', 'Dictionary, Ghanaian.', 'GhanaWeb TV.', 'Maps of Ghana.', 'Copyright © 1994 - 2022 GhanaWeb.']\n"
     ]
    }
   ],
   "source": [
    "#ls = ['Hello from AskPython', 'Hello', 'Hello boy!', 'Hi']\n",
    " \n",
    "matches = []\n",
    " \n",
    "for match in new_list:\n",
    "    if \"Ghana\" in match:\n",
    "        matches.append(match)\n",
    " \n",
    "print(matches)"
   ]
  },
  {
   "cell_type": "code",
   "execution_count": 32,
   "id": "38ba04a0-c661-4d11-972c-2c90fe54cf94",
   "metadata": {},
   "outputs": [],
   "source": [
    "from selenium.webdriver.common.by import By"
   ]
  },
  {
   "cell_type": "code",
   "execution_count": 38,
   "id": "5725f91b-c132-4f37-9f8b-f8a038d8ddaf",
   "metadata": {},
   "outputs": [
    {
     "data": {
      "text/plain": [
       "['GhanaWeb TV.',\n",
       " 'Two Ghanaians in the grip of FBI for their roles in a US$6 million romance, inheritance scam.',\n",
       " 'Sam Jonah describes low level of Ghanaian ownership in local economy as disappointing.',\n",
       " 'Abroad, Ghanaians.',\n",
       " 'Dictionary, Ghanaian.',\n",
       " 'GhanaWeb TV.',\n",
       " 'Maps of Ghana.',\n",
       " 'Copyright © 1994 - 2022 GhanaWeb.']"
      ]
     },
     "execution_count": 38,
     "metadata": {},
     "output_type": "execute_result"
    }
   ],
   "source": [
    "matches"
   ]
  },
  {
   "cell_type": "code",
   "execution_count": 40,
   "id": "ddca8630-15cb-4865-b3ac-4d12fd70b33d",
   "metadata": {},
   "outputs": [],
   "source": [
    "new_lists = [s.replace(\".\", \"\") for s in matches]"
   ]
  },
  {
   "cell_type": "code",
   "execution_count": 41,
   "id": "6e0f887a-0461-441c-9419-a64c29c8945a",
   "metadata": {},
   "outputs": [
    {
     "data": {
      "text/plain": [
       "['GhanaWeb TV',\n",
       " 'Two Ghanaians in the grip of FBI for their roles in a US$6 million romance, inheritance scam',\n",
       " 'Sam Jonah describes low level of Ghanaian ownership in local economy as disappointing',\n",
       " 'Abroad, Ghanaians',\n",
       " 'Dictionary, Ghanaian',\n",
       " 'GhanaWeb TV',\n",
       " 'Maps of Ghana',\n",
       " 'Copyright © 1994 - 2022 GhanaWeb']"
      ]
     },
     "execution_count": 41,
     "metadata": {},
     "output_type": "execute_result"
    }
   ],
   "source": [
    "new_lists"
   ]
  },
  {
   "cell_type": "code",
   "execution_count": 43,
   "id": "36a405a2-3b10-4e35-8395-876110329e15",
   "metadata": {},
   "outputs": [],
   "source": [
    "search = new_lists[1]"
   ]
  },
  {
   "cell_type": "code",
   "execution_count": 49,
   "id": "e04113c2-82d5-4464-8da2-47a9a6ebb5dc",
   "metadata": {},
   "outputs": [
    {
     "name": "stderr",
     "output_type": "stream",
     "text": [
      "C:\\Users\\hp\\AppData\\Local\\Temp/ipykernel_6228/3399908658.py:1: DeprecationWarning: find_element_by_xpath is deprecated. Please use find_element(by=By.XPATH, value=xpath) instead\n",
      "  driver.find_element_by_xpath(\"(//input[@placeholder='Search GhanaWeb'])[1]\").send_keys(search)\n"
     ]
    }
   ],
   "source": [
    "driver.find_element_by_xpath(\"(//input[@placeholder='Search GhanaWeb'])[1]\").send_keys(search)\n",
    "#(//input[@placeholder='Search GhanaWeb'])[1]"
   ]
  },
  {
   "cell_type": "code",
   "execution_count": 51,
   "id": "0466dc58-3848-43de-abc7-f8926aac4dd3",
   "metadata": {},
   "outputs": [
    {
     "name": "stderr",
     "output_type": "stream",
     "text": [
      "C:\\Users\\hp\\AppData\\Local\\Temp/ipykernel_6228/4152354744.py:1: DeprecationWarning: find_element_by_xpath is deprecated. Please use find_element(by=By.XPATH, value=xpath) instead\n",
      "  driver.find_element_by_xpath(\"(//div[@class='flexsearch--submit-wrap'])[1]\").click()\n"
     ]
    }
   ],
   "source": [
    "driver.find_element_by_xpath(\"(//div[@class='flexsearch--submit-wrap'])[1]\").click()\n",
    "#(//div[@class='flexsearch--submit-wrap'])[1]"
   ]
  },
  {
   "cell_type": "code",
   "execution_count": 57,
   "id": "668e6d0a-9945-4567-8d38-9bf7bb7927b4",
   "metadata": {},
   "outputs": [
    {
     "name": "stderr",
     "output_type": "stream",
     "text": [
      "C:\\Users\\hp\\AppData\\Local\\Temp/ipykernel_6228/3927029696.py:1: DeprecationWarning: find_element_by_xpath is deprecated. Please use find_element(by=By.XPATH, value=xpath) instead\n",
      "  move = driver.find_element_by_xpath(\"(//div[@class='search_result'])[1]\").text\n"
     ]
    }
   ],
   "source": [
    "move = driver.find_element_by_xpath(\"(//div[@class='search_result'])[1]\").text\n",
    "#(//div[@class='search_result'])[1]"
   ]
  },
  {
   "cell_type": "code",
   "execution_count": 59,
   "id": "d9c71b76-04b4-429e-acd0-5a8cbb4c369c",
   "metadata": {},
   "outputs": [],
   "source": [
    "link = re.search(\"(?P<url>https?://[^\\s]+)\", move).group(\"url\")"
   ]
  },
  {
   "cell_type": "code",
   "execution_count": 60,
   "id": "8d87f6ed-b338-47b6-ab39-9a9efab46406",
   "metadata": {},
   "outputs": [],
   "source": [
    "driver.get(link)"
   ]
  },
  {
   "cell_type": "code",
   "execution_count": 62,
   "id": "5faacef7-5e3e-42ef-812e-bfc1d72b1a45",
   "metadata": {},
   "outputs": [
    {
     "name": "stderr",
     "output_type": "stream",
     "text": [
      "C:\\Users\\hp\\AppData\\Local\\Temp/ipykernel_6228/860574047.py:1: DeprecationWarning: find_element_by_xpath is deprecated. Please use find_element(by=By.XPATH, value=xpath) instead\n",
      "  inside = driver.find_element_by_xpath(\"(//div)[33]\").text\n"
     ]
    }
   ],
   "source": [
    "inside = driver.find_element_by_xpath(\"(//div)[33]\").text\n",
    "#(//div)[33]"
   ]
  },
  {
   "cell_type": "code",
   "execution_count": 63,
   "id": "0b205e7e-7ae9-4110-84ae-561fb7d3e3ff",
   "metadata": {},
   "outputs": [],
   "source": [
    "repl = inside.replace(\"\\n\", \". \")"
   ]
  },
  {
   "cell_type": "code",
   "execution_count": 64,
   "id": "54d8df24-7c47-4f87-aff3-d7e286d8ce8b",
   "metadata": {},
   "outputs": [],
   "source": [
    "other_list = re.findall(expression, repl)"
   ]
  },
  {
   "cell_type": "code",
   "execution_count": 65,
   "id": "ebc4998b-a198-4294-8677-2f42804fbdb1",
   "metadata": {},
   "outputs": [
    {
     "data": {
      "text/plain": [
       "['The Federal Bureau of Investigations (FBI) has arrested two Ghanaian women in the United States of America for their roles in assisting other Ghanaians defraud others to the tune of over $6 million.',\n",
       " 'Whitney Adams a.',\n",
       " 'Girl Boss, and her mother, Flavia Annang, are reported to have connived with the scammers from Ghana to scam particularly elderly or older men in the U.',\n",
       " 'S.',\n",
       " 'The document also stated that Whitney is an Accra-based lady known specifically on Snapchat for her lavish lifestyle which includes frequenting Dubai for luxurious vacations at 5-star locations.',\n",
       " 'This was contained in U.',\n",
       " 'S court documents with case number 1:22-mj-01123.',\n",
       " 'According to the details contained in the document, these fraudulent activities took place between July 2018 and April 2022.',\n",
       " 'From a time unknown, but by at least July 2018, and through April 7, 2022, in the District of Arizona, and elsewhere, FLAVIA ANNANG, WHITNEY ADAMS, and their co-conspirators conducted a romance/inheritance scam,” the document said in part.',\n",
       " 'The report gave a breakdown of how much people were scammed, such as a victim who gave out $283,000 between 2018 to 2020.',\n",
       " 'Also, another victim is said to have doled out about $5,000,000 between 2015 and 2022 with the hope that he was helping his online lover to collect a gold inheritance worth $10,000,000.',\n",
       " 'Victim #1, age 67, resides in Sierra Vista, Arizona and fell victim to an inheritance scam in which he believed he was sending money for fees to release an inheritance belonging to his online girlfriend.',\n",
       " 'Bank records show that between July 2018 and June 2020, Victim #1 sent more than $283,000 to various individuals via wire transfers and other means in an unsuccessful effort to claim the inheritance.',\n",
       " 'Victim #1 sent some of his money to Gulit Bonx Enterprise, Inc.',\n",
       " 'Massachusetts.',\n",
       " 'Examination of Guilt\\'s bank records showed that Victim #2 also sent money to Gulit\".',\n",
       " 'Detailing the modus operandi of the gang, the FBI document explained how they played on fake romance to dupe their victims.',\n",
       " 'Unknown co-conspirators created phony online dating profiles and personas to engage in online chats, text messaging, Voice over Internet Protocol (VoIP) calls, and otherwise with unwitting Victims located in the United States in efforts to convince those Victims they were involved in an online romantic relationship with a real person.',\n",
       " 'These unwitting Victims were usually elderly or older men.',\n",
       " \"ANNANG's and ADAMS' co-conspirators then convinced the Victims to send money to, or on behalf of, those fake romantic partners to collect a fake inheritance that was supposedly due to the romantic partner.\",\n",
       " 'The Victims believed the money was to pay attorney\\'s fees, customs duties, government fees, taxes, or other expenses related to \"releasing\" the inheritance and were often told that they would share in the ultimate inheritance or that the receipt of the \"inheritance\" proceeds would allow the fake romantic partner to join the Victim in the United States.',\n",
       " 'The co-conspirators provided the Victims with addresses to mail checks to and bank accounts to wire money or deposit checks to, which were controlled by ANNANG, ADAMS, or other co-conspirators.',\n",
       " 'ANNANG, ADAMS, and the co-conspirators then fraudulently transferred and/or kept the Victims\\' money and no \"inheritance\" proceeds were ever remitted in exchange,” it said.',\n",
       " 'Other details from the document showed that Flavia Annang, who is Whitney’s mother, is U.',\n",
       " 'S.',\n",
       " 'After their arrest, the two have been detained as a Maryland court hears their case.',\n",
       " 'Additional information from pulse.',\n",
       " 'ANNANG and ADAMS were located in Maryland and traveled to Ghana on occasion.',\n",
       " 'On July 21, 2020, ANNANG was recorded as the Registered Agent for Flavy Merchandising LLC with the Maryland Department of State Business Registration (MDSBR).',\n",
       " 'On January 11, 2021, ADAMS was recorded as the Registered Agent for McWells Auto Logistics, LLC with the MDSBR.',\n",
       " 'Both ANNANG and ADAMS opened and managed several domestic bank accounts in order to receive and negotiate funds sent by Victims of these fraudulent romance schemes.',\n",
       " 'When ANNANG and ADAMS received Victim funds, they would use their various bank accounts to accept bank wire or bank deposits, or deposit checks received via the mail, and then disperse the funds to other accounts or to locations outside of the United States, all at least in part to conceal the nature, source, and control of those assets,” it added.',\n",
       " 'TWI NEWS.']"
      ]
     },
     "execution_count": 65,
     "metadata": {},
     "output_type": "execute_result"
    }
   ],
   "source": [
    "other_list"
   ]
  },
  {
   "cell_type": "code",
   "execution_count": 66,
   "id": "c9f00c14-a221-44f4-8f4e-60fe5b80b013",
   "metadata": {},
   "outputs": [
    {
     "data": {
      "text/plain": [
       "list"
      ]
     },
     "execution_count": 66,
     "metadata": {},
     "output_type": "execute_result"
    }
   ],
   "source": [
    "type(other_list)"
   ]
  },
  {
   "cell_type": "code",
   "execution_count": 67,
   "id": "a132f187-e832-4f0b-ac82-79b1ca12d11a",
   "metadata": {},
   "outputs": [
    {
     "name": "stdout",
     "output_type": "stream",
     "text": [
      "['The Federal Bureau of Investigations (FBI) has arrested two Ghanaian women in the United States of America for their roles in assisting other Ghanaians defraud others to the tune of over $6 million.', 'Girl Boss, and her mother, Flavia Annang, are reported to have connived with the scammers from Ghana to scam particularly elderly or older men in the U.', 'ANNANG and ADAMS were located in Maryland and traveled to Ghana on occasion.']\n"
     ]
    }
   ],
   "source": [
    "matching = []\n",
    " \n",
    "for match in other_list:\n",
    "    if \"Ghana\" in match:\n",
    "        matching.append(match)\n",
    " \n",
    "print(matching)"
   ]
  },
  {
   "cell_type": "code",
   "execution_count": 79,
   "id": "28741218-c508-4119-9f61-ca0d2e2a4e07",
   "metadata": {},
   "outputs": [],
   "source": [
    "#text1 = \"sedentary. Allan Takocok. That's the conclusion of two studies published in this week's issue of The New England Journal of Medicine.\"\n",
    "caps = re.findall(r'(?:(?<=^)|(?<=[^.]))\\s+([A-Z][a-z]+)', repl)\n"
   ]
  },
  {
   "cell_type": "code",
   "execution_count": 80,
   "id": "b4d98fb7-0575-4f27-8b58-e93b933564f3",
   "metadata": {},
   "outputs": [
    {
     "data": {
      "text/plain": [
       "['Federal',\n",
       " 'Bureau',\n",
       " 'Investigations',\n",
       " 'Ghanaian',\n",
       " 'United',\n",
       " 'States',\n",
       " 'America',\n",
       " 'Ghanaians',\n",
       " 'Adams',\n",
       " 'Girl',\n",
       " 'Boss',\n",
       " 'Flavia',\n",
       " 'Annang',\n",
       " 'Ghana',\n",
       " 'Whitney',\n",
       " 'Accra',\n",
       " 'Snapchat',\n",
       " 'Dubai',\n",
       " 'July',\n",
       " 'April',\n",
       " 'July',\n",
       " 'April',\n",
       " 'District',\n",
       " 'Arizona',\n",
       " 'Sierra',\n",
       " 'Vista',\n",
       " 'Arizona',\n",
       " 'July',\n",
       " 'June',\n",
       " 'Victim',\n",
       " 'Gulit',\n",
       " 'Bonx',\n",
       " 'Enterprise',\n",
       " 'Inc',\n",
       " 'Massachusetts',\n",
       " 'Guilt',\n",
       " 'Victim',\n",
       " 'Gulit',\n",
       " 'Voice',\n",
       " 'Internet',\n",
       " 'Protocol',\n",
       " 'Victims',\n",
       " 'United',\n",
       " 'States',\n",
       " 'Victims',\n",
       " 'Victims',\n",
       " 'Victims',\n",
       " 'Victims',\n",
       " 'Victim',\n",
       " 'United',\n",
       " 'States',\n",
       " 'Victims',\n",
       " 'Victims',\n",
       " 'Flavia',\n",
       " 'Annang',\n",
       " 'Whitney',\n",
       " 'Maryland',\n",
       " 'Maryland',\n",
       " 'Ghana',\n",
       " 'July',\n",
       " 'Registered',\n",
       " 'Agent',\n",
       " 'Flavy',\n",
       " 'Merchandising',\n",
       " 'Maryland',\n",
       " 'Department',\n",
       " 'State',\n",
       " 'Business',\n",
       " 'Registration',\n",
       " 'January',\n",
       " 'Registered',\n",
       " 'Agent',\n",
       " 'Mc',\n",
       " 'Auto',\n",
       " 'Logistics',\n",
       " 'Victims',\n",
       " 'Victim',\n",
       " 'United',\n",
       " 'States']"
      ]
     },
     "execution_count": 80,
     "metadata": {},
     "output_type": "execute_result"
    }
   ],
   "source": [
    "caps"
   ]
  },
  {
   "cell_type": "code",
   "execution_count": 82,
   "id": "da2ac381-bd8c-4e8b-8e4b-10a690a73047",
   "metadata": {},
   "outputs": [
    {
     "data": {
      "text/plain": [
       "['6',\n",
       " '5',\n",
       " '1',\n",
       " '22',\n",
       " '01123',\n",
       " '2018',\n",
       " '2022',\n",
       " '2018',\n",
       " '7',\n",
       " '2022',\n",
       " '283',\n",
       " '000',\n",
       " '2018',\n",
       " '2020',\n",
       " '5',\n",
       " '000',\n",
       " '000',\n",
       " '2015',\n",
       " '2022',\n",
       " '10',\n",
       " '000',\n",
       " '000',\n",
       " '1',\n",
       " '67',\n",
       " '2018',\n",
       " '2020',\n",
       " '1',\n",
       " '283',\n",
       " '000',\n",
       " '1',\n",
       " '2',\n",
       " '21',\n",
       " '2020',\n",
       " '11',\n",
       " '2021',\n",
       " '0',\n",
       " '2',\n",
       " '22']"
      ]
     },
     "execution_count": 82,
     "metadata": {},
     "output_type": "execute_result"
    }
   ],
   "source": [
    "re.findall(r'\\d+', repl)"
   ]
  },
  {
   "cell_type": "code",
   "execution_count": 83,
   "id": "09df1d72-1208-45a9-a0d4-67513e12bb86",
   "metadata": {},
   "outputs": [
    {
     "data": {
      "text/plain": [
       "'The Federal Bureau of Investigations (FBI) has arrested two Ghanaian women in the United States of America for their roles in assisting other Ghanaians defraud others to the tune of over $6 million.. . Whitney Adams a.k.a, Girl Boss, and her mother, Flavia Annang, are reported to have connived with the scammers from Ghana to scam particularly elderly or older men in the U.S.. . The document also stated that Whitney is an Accra-based lady known specifically on Snapchat for her lavish lifestyle which includes frequenting Dubai for luxurious vacations at 5-star locations.. . This was contained in U.S court documents with case number 1:22-mj-01123.. . According to the details contained in the document, these fraudulent activities took place between July 2018 and April 2022.. . \"From a time unknown, but by at least July 2018, and through April 7, 2022, in the District of Arizona, and elsewhere, FLAVIA ANNANG, WHITNEY ADAMS, and their co-conspirators conducted a romance/inheritance scam,” the document said in part.. . The report gave a breakdown of how much people were scammed, such as a victim who gave out $283,000 between 2018 to 2020.. . Also, another victim is said to have doled out about $5,000,000 between 2015 and 2022 with the hope that he was helping his online lover to collect a gold inheritance worth $10,000,000.. . \"Victim #1, age 67, resides in Sierra Vista, Arizona and fell victim to an inheritance scam in which he believed he was sending money for fees to release an inheritance belonging to his online girlfriend. Bank records show that between July 2018 and June 2020, Victim #1 sent more than $283,000 to various individuals via wire transfers and other means in an unsuccessful effort to claim the inheritance. Victim #1 sent some of his money to Gulit Bonx Enterprise, Inc., in Massachusetts. Examination of Guilt\\'s bank records showed that Victim #2 also sent money to Gulit\".. . Detailing the modus operandi of the gang, the FBI document explained how they played on fake romance to dupe their victims.. . \"Unknown co-conspirators created phony online dating profiles and personas to engage in online chats, text messaging, Voice over Internet Protocol (VoIP) calls, and otherwise with unwitting Victims located in the United States in efforts to convince those Victims they were involved in an online romantic relationship with a real person.. . \"These unwitting Victims were usually elderly or older men. ANNANG\\'s and ADAMS\\' co-conspirators then convinced the Victims to send money to, or on behalf of, those fake romantic partners to collect a fake inheritance that was supposedly due to the romantic partner.. . “The Victims believed the money was to pay attorney\\'s fees, customs duties, government fees, taxes, or other expenses related to \"releasing\" the inheritance and were often told that they would share in the ultimate inheritance or that the receipt of the \"inheritance\" proceeds would allow the fake romantic partner to join the Victim in the United States.. . “The co-conspirators provided the Victims with addresses to mail checks to and bank accounts to wire money or deposit checks to, which were controlled by ANNANG, ADAMS, or other co-conspirators. ANNANG, ADAMS, and the co-conspirators then fraudulently transferred and/or kept the Victims\\' money and no \"inheritance\" proceeds were ever remitted in exchange,” it said.. . Other details from the document showed that Flavia Annang, who is Whitney’s mother, is U.S.-based.. . After their arrest, the two have been detained as a Maryland court hears their case.. . Additional information from pulse.com.gh showed that \"throughout the conspiracy, ANNANG and ADAMS were located in Maryland and traveled to Ghana on occasion. On July 21, 2020, ANNANG was recorded as the Registered Agent for Flavy Merchandising LLC with the Maryland Department of State Business Registration (MDSBR).. . “On January 11, 2021, ADAMS was recorded as the Registered Agent for McWells Auto Logistics, LLC with the MDSBR. Both ANNANG and ADAMS opened and managed several domestic bank accounts in order to receive and negotiate funds sent by Victims of these fraudulent romance schemes.. . \"When ANNANG and ADAMS received Victim funds, they would use their various bank accounts to accept bank wire or bank deposits, or deposit checks received via the mail, and then disperse the funds to other accounts or to locations outside of the United States, all at least in part to conceal the nature, source, and control of those assets,” it added.. . TWI NEWS. 0 seconds of 2 minutes, 22 seconds.  '"
      ]
     },
     "execution_count": 83,
     "metadata": {},
     "output_type": "execute_result"
    }
   ],
   "source": [
    "repl"
   ]
  },
  {
   "cell_type": "code",
   "execution_count": null,
   "id": "6830f58b-5ac4-44e3-9142-532a490dd34c",
   "metadata": {},
   "outputs": [],
   "source": []
  }
 ],
 "metadata": {
  "kernelspec": {
   "display_name": "Python 3 (ipykernel)",
   "language": "python",
   "name": "python3"
  },
  "language_info": {
   "codemirror_mode": {
    "name": "ipython",
    "version": 3
   },
   "file_extension": ".py",
   "mimetype": "text/x-python",
   "name": "python",
   "nbconvert_exporter": "python",
   "pygments_lexer": "ipython3",
   "version": "3.9.7"
  }
 },
 "nbformat": 4,
 "nbformat_minor": 5
}
